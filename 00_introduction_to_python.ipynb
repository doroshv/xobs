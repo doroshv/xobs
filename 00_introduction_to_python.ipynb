{
 "cells": [
  {
   "cell_type": "markdown",
   "metadata": {},
   "source": [
    "# Introduction to Python"
   ]
  },
  {
   "cell_type": "markdown",
   "metadata": {},
   "source": [
    "We will be using the Jupyter notebook for many activities this semester. Every notebook has an associated language called the \"kernel\". We will be using in the Python 3 kernel from the IPython project. You can run notebooks either locally, or on a remote server via Binder service (see repository readme for the link)\n",
    "\n",
    "For more information on how to use notebooks, please read [this](https://realpython.com/jupyter-notebook-introduction/) or one of the other references available on the net. Some aspects of that will be covered during the lectures, but that's something you can only learn by doing. Same applies to python itself, below we only cover basics. This tutorial is heavily based on [this one](https://jupyter.brynmawr.edu/services/public/dblank/CS245%20Programming%20Languages/2016-Fall/Labs/Chapter%2002%20-%20Introduction%20to%20Python.ipynb), but of course there's much more than that! Whenever in trouble, don't hesitate to use google - python is very well documented."
   ]
  },
  {
   "cell_type": "markdown",
   "metadata": {},
   "source": [
    "# 1. Python"
   ]
  },
  {
   "cell_type": "markdown",
   "metadata": {},
   "source": [
    "Python is a programming language that has been under development for over 25 years. That's a full-fledged programming language with miriad of libraries available, and it is impossible to cover all of them in the course. You will need to do your own research, therefore. Here are some useful links\n",
    "\n",
    "**Getting Started with Python**:\n",
    "\n",
    "* https://www.codecademy.com/learn/python\n",
    "* http://docs.python-guide.org/en/latest/intro/learning/\n",
    "* https://learnpythonthehardway.org/book/\n",
    "* https://www.codementor.io/learn-python-online\n",
    "\n",
    "**Learning Python in Notebooks**:\n",
    "\n",
    "* http://mbakker7.github.io/exploratory_computing_with_python/\n",
    "\n",
    "This is handy to always have available for reference:\n",
    "\n",
    "**Python Reference**:\n",
    "\n",
    "* https://docs.python.org/3.5/reference/\n"
   ]
  },
  {
   "cell_type": "markdown",
   "metadata": {},
   "source": [
    "## 1.1 Statements"
   ]
  },
  {
   "cell_type": "markdown",
   "metadata": {},
   "source": [
    "Python is an [imperative language](https://en.wikipedia.org/wiki/Imperative_programming) based on [statements](https://en.wikipedia.org/wiki/Statement_(computer_science&#41;). That is, programs in Python consists of lines composed of statements. A statement can be:\n",
    "\n",
    "* a single expression\n",
    "* an assignment\n",
    "* a function call\n",
    "* a function definition\n",
    "* a statement; statement"
   ]
  },
  {
   "cell_type": "markdown",
   "metadata": {},
   "source": [
    "### 1.1.1 Expressions"
   ]
  },
  {
   "cell_type": "markdown",
   "metadata": {},
   "source": [
    "* Numbers\n",
    "  * integers\n",
    "  * floating-point\n",
    "  * complex numbers\n",
    "* strings\n",
    "* boolean values\n",
    "* lists and dicts"
   ]
  },
  {
   "cell_type": "markdown",
   "metadata": {},
   "source": [
    "#### 1.1.1.1 Numbers"
   ]
  },
  {
   "cell_type": "code",
   "execution_count": 1,
   "metadata": {},
   "outputs": [
    {
     "data": {
      "text/plain": [
       "1"
      ]
     },
     "execution_count": 1,
     "metadata": {},
     "output_type": "execute_result"
    }
   ],
   "source": [
    "1"
   ]
  },
  {
   "cell_type": "code",
   "execution_count": 2,
   "metadata": {},
   "outputs": [
    {
     "data": {
      "text/plain": [
       "2"
      ]
     },
     "execution_count": 2,
     "metadata": {},
     "output_type": "execute_result"
    }
   ],
   "source": [
    "2"
   ]
  },
  {
   "cell_type": "code",
   "execution_count": 3,
   "metadata": {},
   "outputs": [
    {
     "data": {
      "text/plain": [
       "-3"
      ]
     },
     "execution_count": 3,
     "metadata": {},
     "output_type": "execute_result"
    }
   ],
   "source": [
    "-3"
   ]
  },
  {
   "cell_type": "code",
   "execution_count": 4,
   "metadata": {},
   "outputs": [
    {
     "data": {
      "text/plain": [
       "2"
      ]
     },
     "execution_count": 4,
     "metadata": {},
     "output_type": "execute_result"
    }
   ],
   "source": [
    "1\n",
    "2"
   ]
  },
  {
   "cell_type": "code",
   "execution_count": 5,
   "metadata": {},
   "outputs": [
    {
     "data": {
      "text/plain": [
       "3.14"
      ]
     },
     "execution_count": 5,
     "metadata": {},
     "output_type": "execute_result"
    }
   ],
   "source": [
    "3.14"
   ]
  },
  {
   "cell_type": "markdown",
   "metadata": {},
   "source": [
    "#### 1.1.1.2 Strings"
   ]
  },
  {
   "cell_type": "code",
   "execution_count": 6,
   "metadata": {},
   "outputs": [
    {
     "data": {
      "text/plain": [
       "'apple'"
      ]
     },
     "execution_count": 6,
     "metadata": {},
     "output_type": "execute_result"
    }
   ],
   "source": [
    "'apple'"
   ]
  },
  {
   "cell_type": "code",
   "execution_count": 7,
   "metadata": {},
   "outputs": [
    {
     "data": {
      "text/plain": [
       "'apple'"
      ]
     },
     "execution_count": 7,
     "metadata": {},
     "output_type": "execute_result"
    }
   ],
   "source": [
    "\"apple\""
   ]
  },
  {
   "cell_type": "markdown",
   "metadata": {},
   "source": [
    "Notice that the Out might not match exactly the In. In the above example, we used double-quotes but the representation of the string used single-quotes. Python will default to showing representations of values using single-quotes, if it can."
   ]
  },
  {
   "cell_type": "markdown",
   "metadata": {},
   "source": [
    "#### 1.1.1.3 Boolean Values"
   ]
  },
  {
   "cell_type": "code",
   "execution_count": 8,
   "metadata": {},
   "outputs": [
    {
     "data": {
      "text/plain": [
       "True"
      ]
     },
     "execution_count": 8,
     "metadata": {},
     "output_type": "execute_result"
    }
   ],
   "source": [
    "True"
   ]
  },
  {
   "cell_type": "code",
   "execution_count": 9,
   "metadata": {},
   "outputs": [
    {
     "data": {
      "text/plain": [
       "False"
      ]
     },
     "execution_count": 9,
     "metadata": {},
     "output_type": "execute_result"
    }
   ],
   "source": [
    "False"
   ]
  },
  {
   "cell_type": "markdown",
   "metadata": {},
   "source": [
    "#### 1.1.1.4 Lists and Dicts"
   ]
  },
  {
   "cell_type": "markdown",
   "metadata": {},
   "source": [
    "Python has three very useful data structures built into the language:\n",
    "\n",
    "* dictionaries (hash tables): {}\n",
    "* lists: []\n",
    "* tuples: (item, ...)\n",
    "\n",
    "List is a mutable list of items. Tuple is a read-only data structure (immutable)."
   ]
  },
  {
   "cell_type": "code",
   "execution_count": 10,
   "metadata": {},
   "outputs": [
    {
     "data": {
      "text/plain": [
       "[1, 2, 3]"
      ]
     },
     "execution_count": 10,
     "metadata": {},
     "output_type": "execute_result"
    }
   ],
   "source": [
    "[1, 2, 3]"
   ]
  },
  {
   "cell_type": "code",
   "execution_count": 11,
   "metadata": {},
   "outputs": [
    {
     "data": {
      "text/plain": [
       "(1, 2, 3)"
      ]
     },
     "execution_count": 11,
     "metadata": {},
     "output_type": "execute_result"
    }
   ],
   "source": [
    "(1, 2, 3)"
   ]
  },
  {
   "cell_type": "code",
   "execution_count": 12,
   "metadata": {},
   "outputs": [
    {
     "data": {
      "text/plain": [
       "(1, 2, 3)"
      ]
     },
     "execution_count": 12,
     "metadata": {},
     "output_type": "execute_result"
    }
   ],
   "source": [
    "1, 2, 3"
   ]
  },
  {
   "cell_type": "code",
   "execution_count": 13,
   "metadata": {},
   "outputs": [
    {
     "data": {
      "text/plain": [
       "{'apple': 'a fruit', 'banana': 'an herb', 'monkey': 'a mammal'}"
      ]
     },
     "execution_count": 13,
     "metadata": {},
     "output_type": "execute_result"
    }
   ],
   "source": [
    "{\"apple\": \"a fruit\", \"banana\": \"an herb\", \"monkey\": \"a mammal\"}"
   ]
  },
  {
   "cell_type": "code",
   "execution_count": 14,
   "metadata": {},
   "outputs": [
    {
     "data": {
      "text/plain": [
       "'a fruit'"
      ]
     },
     "execution_count": 14,
     "metadata": {},
     "output_type": "execute_result"
    }
   ],
   "source": [
    "{\"apple\": \"a fruit\", \"banana\": \"an herb\", \"monkey\": \"a mammal\"}[\"apple\"]"
   ]
  },
  {
   "cell_type": "markdown",
   "metadata": {},
   "source": [
    "### 1.1.2 Function Calls"
   ]
  },
  {
   "cell_type": "markdown",
   "metadata": {},
   "source": [
    "There are two ways to call functions in Python:\n",
    "\n",
    "1. by pre-defined infix operator name\n",
    "2. by function name, followed by parentheses\n",
    "\n",
    "Infix operator name:"
   ]
  },
  {
   "cell_type": "code",
   "execution_count": 15,
   "metadata": {},
   "outputs": [
    {
     "data": {
      "text/plain": [
       "3"
      ]
     },
     "execution_count": 15,
     "metadata": {},
     "output_type": "execute_result"
    }
   ],
   "source": [
    "1 + 2"
   ]
  },
  {
   "cell_type": "code",
   "execution_count": 16,
   "metadata": {},
   "outputs": [
    {
     "data": {
      "text/plain": [
       "1"
      ]
     },
     "execution_count": 16,
     "metadata": {},
     "output_type": "execute_result"
    }
   ],
   "source": [
    "abs(-1)"
   ]
  },
  {
   "cell_type": "code",
   "execution_count": 17,
   "metadata": {},
   "outputs": [],
   "source": [
    "import operator"
   ]
  },
  {
   "cell_type": "code",
   "execution_count": 18,
   "metadata": {},
   "outputs": [
    {
     "data": {
      "text/plain": [
       "3"
      ]
     },
     "execution_count": 18,
     "metadata": {},
     "output_type": "execute_result"
    }
   ],
   "source": [
    "operator.add(1, 2)"
   ]
  },
  {
   "cell_type": "markdown",
   "metadata": {},
   "source": [
    "#### 1.1.2.1 Print"
   ]
  },
  {
   "cell_type": "markdown",
   "metadata": {},
   "source": [
    "Evaluating and display result as an Out, versus evaluating and printing result (side-effect)."
   ]
  },
  {
   "cell_type": "code",
   "execution_count": 19,
   "metadata": {},
   "outputs": [
    {
     "name": "stdout",
     "output_type": "stream",
     "text": [
      "1\n"
     ]
    }
   ],
   "source": [
    "print(1)"
   ]
  },
  {
   "cell_type": "markdown",
   "metadata": {},
   "source": [
    "### 1.1.3 Special Values"
   ]
  },
  {
   "cell_type": "code",
   "execution_count": 20,
   "metadata": {},
   "outputs": [
    {
     "name": "stdout",
     "output_type": "stream",
     "text": [
      "None\n",
      "nan\n"
     ]
    }
   ],
   "source": [
    "import numpy\n",
    "print(None)\n",
    "print(numpy.nan)"
   ]
  },
  {
   "cell_type": "markdown",
   "metadata": {},
   "source": [
    "### 1.1.4 Defining Functions"
   ]
  },
  {
   "cell_type": "code",
   "execution_count": 21,
   "metadata": {},
   "outputs": [],
   "source": [
    "def plus(a, b):\n",
    "    return a + b"
   ]
  },
  {
   "cell_type": "code",
   "execution_count": 22,
   "metadata": {},
   "outputs": [
    {
     "data": {
      "text/plain": [
       "7"
      ]
     },
     "execution_count": 22,
     "metadata": {},
     "output_type": "execute_result"
    }
   ],
   "source": [
    "plus(3, 4)"
   ]
  },
  {
   "cell_type": "code",
   "execution_count": 23,
   "metadata": {},
   "outputs": [],
   "source": [
    "def plus(a, b):\n",
    "    a + b"
   ]
  },
  {
   "cell_type": "code",
   "execution_count": 24,
   "metadata": {},
   "outputs": [],
   "source": [
    "plus(3,4)"
   ]
  },
  {
   "cell_type": "code",
   "execution_count": 25,
   "metadata": {},
   "outputs": [
    {
     "data": {
      "text/plain": [
       "True"
      ]
     },
     "execution_count": 25,
     "metadata": {},
     "output_type": "execute_result"
    }
   ],
   "source": [
    "plus(3, 4) == None\n"
   ]
  },
  {
   "cell_type": "code",
   "execution_count": 26,
   "metadata": {},
   "outputs": [
    {
     "data": {
      "text/plain": [
       "7"
      ]
     },
     "execution_count": 26,
     "metadata": {},
     "output_type": "execute_result"
    }
   ],
   "source": [
    "plus = lambda a,b: a+b\n",
    "plus(3,4)"
   ]
  },
  {
   "cell_type": "markdown",
   "metadata": {},
   "source": [
    "What happened? All functions return *something*, even if you don't specify it. If you don't specify a return value, then it will default to returning `None`."
   ]
  },
  {
   "cell_type": "code",
   "execution_count": 27,
   "metadata": {},
   "outputs": [
    {
     "ename": "TypeError",
     "evalue": "can only concatenate str (not \"int\") to str",
     "output_type": "error",
     "traceback": [
      "\u001b[0;31m---------------------------------------------------------------------------\u001b[0m",
      "\u001b[0;31mTypeError\u001b[0m                                 Traceback (most recent call last)",
      "\u001b[0;32m<ipython-input-27-42f7d05b4f13>\u001b[0m in \u001b[0;36m<module>\u001b[0;34m\u001b[0m\n\u001b[0;32m----> 1\u001b[0;31m \u001b[0;34m\"a\"\u001b[0m \u001b[0;34m+\u001b[0m \u001b[0;36m1\u001b[0m\u001b[0;34m\u001b[0m\u001b[0;34m\u001b[0m\u001b[0m\n\u001b[0m",
      "\u001b[0;31mTypeError\u001b[0m: can only concatenate str (not \"int\") to str"
     ]
    }
   ],
   "source": [
    "\"a\" + 1"
   ]
  },
  {
   "cell_type": "markdown",
   "metadata": {},
   "source": [
    "<div style=\"background-color: lightgrey\">\n",
    "<h2>Sidebar 2-1: How to Read Python Error Messages</h2>\n",
    "\n",
    "<p>\n",
    "Python error messages \n",
    "<p>\n",
    "<tt>TypeError: Can't convert 'int' object to str implicitly</tt>\n",
    "</p>\n",
    "\n",
    "<p>Above the error message is the \"traceback\" also called the \"call stack\". This is a representation of the sequence of procedure calls that lead to the error. If the procedure call originated from code from a file, the filename would be listed after the word \"File\" on each line. If the procedure call originated from a notebook cell, then the word \"ipython-input-#-HEX\".\n",
    "</p>\n",
    "</div>"
   ]
  },
  {
   "cell_type": "markdown",
   "metadata": {},
   "source": [
    "## 1.2 Equality"
   ]
  },
  {
   "cell_type": "markdown",
   "metadata": {},
   "source": [
    "### 1.2.1 =="
   ]
  },
  {
   "cell_type": "code",
   "execution_count": 28,
   "metadata": {},
   "outputs": [
    {
     "data": {
      "text/plain": [
       "True"
      ]
     },
     "execution_count": 28,
     "metadata": {},
     "output_type": "execute_result"
    }
   ],
   "source": [
    "1 == 1"
   ]
  },
  {
   "cell_type": "markdown",
   "metadata": {},
   "source": [
    "### 1.2.2 is"
   ]
  },
  {
   "cell_type": "code",
   "execution_count": 29,
   "metadata": {},
   "outputs": [
    {
     "data": {
      "text/plain": [
       "False"
      ]
     },
     "execution_count": 29,
     "metadata": {},
     "output_type": "execute_result"
    }
   ],
   "source": [
    "[] is []"
   ]
  },
  {
   "cell_type": "code",
   "execution_count": 30,
   "metadata": {},
   "outputs": [
    {
     "data": {
      "text/plain": [
       "False"
      ]
     },
     "execution_count": 30,
     "metadata": {},
     "output_type": "execute_result"
    }
   ],
   "source": [
    "list() is list()"
   ]
  },
  {
   "cell_type": "code",
   "execution_count": 31,
   "metadata": {},
   "outputs": [
    {
     "data": {
      "text/plain": [
       "True"
      ]
     },
     "execution_count": 31,
     "metadata": {},
     "output_type": "execute_result"
    }
   ],
   "source": [
    "tuple() is tuple()"
   ]
  },
  {
   "cell_type": "code",
   "execution_count": 32,
   "metadata": {},
   "outputs": [
    {
     "name": "stderr",
     "output_type": "stream",
     "text": [
      "<>:1: SyntaxWarning: \"is\" with a literal. Did you mean \"==\"?\n",
      "<>:1: SyntaxWarning: \"is\" with a literal. Did you mean \"==\"?\n",
      "<ipython-input-32-7a355bd8766c>:1: SyntaxWarning: \"is\" with a literal. Did you mean \"==\"?\n",
      "  57663463467 is 57663463467\n"
     ]
    },
    {
     "data": {
      "text/plain": [
       "True"
      ]
     },
     "execution_count": 32,
     "metadata": {},
     "output_type": "execute_result"
    }
   ],
   "source": [
    "57663463467 is 57663463467"
   ]
  },
  {
   "cell_type": "code",
   "execution_count": 33,
   "metadata": {},
   "outputs": [
    {
     "data": {
      "text/plain": [
       "True"
      ]
     },
     "execution_count": 33,
     "metadata": {},
     "output_type": "execute_result"
    }
   ],
   "source": [
    "None == None"
   ]
  },
  {
   "cell_type": "code",
   "execution_count": 34,
   "metadata": {},
   "outputs": [
    {
     "data": {
      "text/plain": [
       "True"
      ]
     },
     "execution_count": 34,
     "metadata": {},
     "output_type": "execute_result"
    }
   ],
   "source": [
    "None is None"
   ]
  },
  {
   "cell_type": "markdown",
   "metadata": {},
   "source": [
    "# 2. Advanced Topics"
   ]
  },
  {
   "cell_type": "markdown",
   "metadata": {},
   "source": [
    "The Zen of Python:"
   ]
  },
  {
   "cell_type": "code",
   "execution_count": 35,
   "metadata": {},
   "outputs": [
    {
     "name": "stdout",
     "output_type": "stream",
     "text": [
      "The Zen of Python, by Tim Peters\n",
      "\n",
      "Beautiful is better than ugly.\n",
      "Explicit is better than implicit.\n",
      "Simple is better than complex.\n",
      "Complex is better than complicated.\n",
      "Flat is better than nested.\n",
      "Sparse is better than dense.\n",
      "Readability counts.\n",
      "Special cases aren't special enough to break the rules.\n",
      "Although practicality beats purity.\n",
      "Errors should never pass silently.\n",
      "Unless explicitly silenced.\n",
      "In the face of ambiguity, refuse the temptation to guess.\n",
      "There should be one-- and preferably only one --obvious way to do it.\n",
      "Although that way may not be obvious at first unless you're Dutch.\n",
      "Now is better than never.\n",
      "Although never is often better than *right* now.\n",
      "If the implementation is hard to explain, it's a bad idea.\n",
      "If the implementation is easy to explain, it may be a good idea.\n",
      "Namespaces are one honking great idea -- let's do more of those!\n"
     ]
    }
   ],
   "source": [
    "import this"
   ]
  },
  {
   "cell_type": "markdown",
   "metadata": {},
   "source": [
    "## 2.2 Scope of variables"
   ]
  },
  {
   "cell_type": "markdown",
   "metadata": {},
   "source": [
    "Is not always clear:"
   ]
  },
  {
   "cell_type": "code",
   "execution_count": 36,
   "metadata": {},
   "outputs": [],
   "source": [
    "y = 0\n",
    "for x in range(10):\n",
    "    y = x"
   ]
  },
  {
   "cell_type": "code",
   "execution_count": 37,
   "metadata": {},
   "outputs": [
    {
     "data": {
      "text/plain": [
       "9"
      ]
     },
     "execution_count": 37,
     "metadata": {},
     "output_type": "execute_result"
    }
   ],
   "source": [
    "x"
   ]
  },
  {
   "cell_type": "code",
   "execution_count": 38,
   "metadata": {},
   "outputs": [
    {
     "data": {
      "text/plain": [
       "[10, 11, 12, 13, 14, 15, 16, 17, 18, 19]"
      ]
     },
     "execution_count": 38,
     "metadata": {},
     "output_type": "execute_result"
    }
   ],
   "source": [
    "[x for x in range(10, 20)]"
   ]
  },
  {
   "cell_type": "code",
   "execution_count": 39,
   "metadata": {},
   "outputs": [
    {
     "data": {
      "text/plain": [
       "9"
      ]
     },
     "execution_count": 39,
     "metadata": {},
     "output_type": "execute_result"
    }
   ],
   "source": [
    "x"
   ]
  },
  {
   "cell_type": "markdown",
   "metadata": {},
   "source": [
    "## 2.3 Scope"
   ]
  },
  {
   "cell_type": "markdown",
   "metadata": {},
   "source": [
    "Python follows the LEGB Rule (after https://www.amazon.com/dp/0596513984/):\n",
    "\n",
    "* L, Local: Names assigned in any way within a function (def or lambda)), and not declared global in that function.\n",
    "* E, Enclosing function locals: Name in the local scope of any and all enclosing functions (def or lambda), from inner to outer.\n",
    "* G, Global (module): Names assigned at the top-level of a module file, or declared global in a def within the file.\n",
    "* B, Built-in (Python): Names preassigned in the built-in names module : open, range, SyntaxError,..."
   ]
  },
  {
   "cell_type": "code",
   "execution_count": 40,
   "metadata": {},
   "outputs": [],
   "source": [
    "x = 3\n",
    "def foo():\n",
    "    x=4\n",
    "    def bar():\n",
    "        print(x)  # Accesses x from foo's scope\n",
    "    bar()  # Prints 4\n",
    "    x=5\n",
    "    bar()  # Prints 5"
   ]
  },
  {
   "cell_type": "code",
   "execution_count": 41,
   "metadata": {},
   "outputs": [
    {
     "name": "stdout",
     "output_type": "stream",
     "text": [
      "4\n",
      "5\n"
     ]
    }
   ],
   "source": [
    "foo()"
   ]
  },
  {
   "cell_type": "markdown",
   "metadata": {},
   "source": [
    "See [scope_resolution_legb_rule.ipynb](scope_resolution_legb_rule.ipynb) for some additional readings on scope."
   ]
  },
  {
   "cell_type": "markdown",
   "metadata": {},
   "source": [
    "## 2.4 Generators"
   ]
  },
  {
   "cell_type": "code",
   "execution_count": 42,
   "metadata": {},
   "outputs": [],
   "source": [
    "def function():\n",
    "    for i in range(10):\n",
    "        yield i"
   ]
  },
  {
   "cell_type": "code",
   "execution_count": 43,
   "metadata": {},
   "outputs": [
    {
     "data": {
      "text/plain": [
       "<generator object function at 0x10de09b30>"
      ]
     },
     "execution_count": 43,
     "metadata": {},
     "output_type": "execute_result"
    }
   ],
   "source": [
    "function()"
   ]
  },
  {
   "cell_type": "code",
   "execution_count": 44,
   "metadata": {},
   "outputs": [
    {
     "name": "stdout",
     "output_type": "stream",
     "text": [
      "0\n",
      "1\n",
      "2\n",
      "3\n",
      "4\n",
      "5\n",
      "6\n",
      "7\n",
      "8\n",
      "9\n"
     ]
    }
   ],
   "source": [
    "for y in function():\n",
    "    print(y)"
   ]
  },
  {
   "cell_type": "markdown",
   "metadata": {},
   "source": [
    "## 2.5 Default arguments"
   ]
  },
  {
   "cell_type": "code",
   "execution_count": 45,
   "metadata": {},
   "outputs": [],
   "source": [
    "def do_something(a, b, c):\n",
    "    return (a, b, c)"
   ]
  },
  {
   "cell_type": "code",
   "execution_count": 46,
   "metadata": {},
   "outputs": [
    {
     "data": {
      "text/plain": [
       "(1, 2, 3)"
      ]
     },
     "execution_count": 46,
     "metadata": {},
     "output_type": "execute_result"
    }
   ],
   "source": [
    "do_something(1, 2, 3)"
   ]
  },
  {
   "cell_type": "code",
   "execution_count": 47,
   "metadata": {},
   "outputs": [],
   "source": [
    "def do_something_else(a=1, b=2, c=3):\n",
    "    return (a, b, c)"
   ]
  },
  {
   "cell_type": "code",
   "execution_count": 48,
   "metadata": {},
   "outputs": [
    {
     "data": {
      "text/plain": [
       "(1, 2, 3)"
      ]
     },
     "execution_count": 48,
     "metadata": {},
     "output_type": "execute_result"
    }
   ],
   "source": [
    "do_something_else()"
   ]
  },
  {
   "cell_type": "code",
   "execution_count": 49,
   "metadata": {},
   "outputs": [],
   "source": [
    "def some_function(start=[]):\n",
    "    start.append(1)\n",
    "    return start"
   ]
  },
  {
   "cell_type": "code",
   "execution_count": 50,
   "metadata": {},
   "outputs": [],
   "source": [
    "result = some_function()"
   ]
  },
  {
   "cell_type": "code",
   "execution_count": 51,
   "metadata": {},
   "outputs": [
    {
     "data": {
      "text/plain": [
       "[1]"
      ]
     },
     "execution_count": 51,
     "metadata": {},
     "output_type": "execute_result"
    }
   ],
   "source": [
    "result"
   ]
  },
  {
   "cell_type": "code",
   "execution_count": 52,
   "metadata": {},
   "outputs": [],
   "source": [
    "result.append(2)"
   ]
  },
  {
   "cell_type": "code",
   "execution_count": 53,
   "metadata": {},
   "outputs": [],
   "source": [
    "other_result = some_function()"
   ]
  },
  {
   "cell_type": "code",
   "execution_count": 54,
   "metadata": {},
   "outputs": [
    {
     "data": {
      "text/plain": [
       "[1, 2, 1]"
      ]
     },
     "execution_count": 54,
     "metadata": {},
     "output_type": "execute_result"
    }
   ],
   "source": [
    "other_result"
   ]
  },
  {
   "cell_type": "markdown",
   "metadata": {},
   "source": [
    "## 3.2 List comprehension"
   ]
  },
  {
   "cell_type": "markdown",
   "metadata": {},
   "source": [
    "\"List comprehension\" is the idea of writing some code inside of a list that will generate a list.\n",
    "\n",
    "Consider the following:"
   ]
  },
  {
   "cell_type": "code",
   "execution_count": 55,
   "metadata": {},
   "outputs": [
    {
     "data": {
      "text/plain": [
       "[0, 1, 4, 9, 16, 25, 36, 49, 64, 81]"
      ]
     },
     "execution_count": 55,
     "metadata": {},
     "output_type": "execute_result"
    }
   ],
   "source": [
    "[x ** 2 for x in range(10)]"
   ]
  },
  {
   "cell_type": "code",
   "execution_count": 56,
   "metadata": {},
   "outputs": [
    {
     "data": {
      "text/plain": [
       "[0, 1, 4, 9, 16, 25, 36, 49, 64, 81]"
      ]
     },
     "execution_count": 56,
     "metadata": {},
     "output_type": "execute_result"
    }
   ],
   "source": [
    "temp_list = []\n",
    "for x in range(10):\n",
    "    temp_list.append(x ** 2)\n",
    "temp_list"
   ]
  },
  {
   "cell_type": "markdown",
   "metadata": {},
   "source": [
    "But list comprehension is much more concise."
   ]
  },
  {
   "cell_type": "markdown",
   "metadata": {},
   "source": [
    "List comprehensions can be also used for filtering of the lists"
   ]
  },
  {
   "cell_type": "code",
   "execution_count": 57,
   "metadata": {},
   "outputs": [
    {
     "data": {
      "text/plain": [
       "[1, 3, 5, 7, 9]"
      ]
     },
     "execution_count": 57,
     "metadata": {},
     "output_type": "execute_result"
    }
   ],
   "source": [
    "[x for x in range(10) if x%2]"
   ]
  },
  {
   "cell_type": "markdown",
   "metadata": {},
   "source": [
    "### 3.2.1 Dictionary \"comprehension\" (or filtering). \n",
    "You can also use similar syntax to work with dictionaries"
   ]
  },
  {
   "cell_type": "code",
   "execution_count": 58,
   "metadata": {},
   "outputs": [
    {
     "data": {
      "text/plain": [
       "{'key1': 'value1', 'key2': 'value2'}"
      ]
     },
     "execution_count": 58,
     "metadata": {},
     "output_type": "execute_result"
    }
   ],
   "source": [
    "{k:v for k,v in zip(['key1','key2'],['value1','value2'])}"
   ]
  },
  {
   "cell_type": "markdown",
   "metadata": {},
   "source": [
    "This includes also filtering"
   ]
  },
  {
   "cell_type": "code",
   "execution_count": 59,
   "metadata": {},
   "outputs": [
    {
     "data": {
      "text/plain": [
       "{'key1': 'value1'}"
      ]
     },
     "execution_count": 59,
     "metadata": {},
     "output_type": "execute_result"
    }
   ],
   "source": [
    "{k:v for k,v in zip(['key1','key2'],['value1','value2']) if v.find('1')>0}"
   ]
  },
  {
   "cell_type": "markdown",
   "metadata": {},
   "source": [
    "## 3.3 Plotting"
   ]
  },
  {
   "cell_type": "code",
   "execution_count": 60,
   "metadata": {},
   "outputs": [],
   "source": [
    "%matplotlib notebook"
   ]
  },
  {
   "cell_type": "markdown",
   "metadata": {},
   "source": [
    "After the magic, we then need to import the matplotlib library:"
   ]
  },
  {
   "cell_type": "code",
   "execution_count": 61,
   "metadata": {},
   "outputs": [],
   "source": [
    "import matplotlib.pyplot as plt"
   ]
  },
  {
   "cell_type": "markdown",
   "metadata": {},
   "source": [
    "Python has many, many libraries. We will use a few over the course of the semester.\n",
    "\n",
    "To create a simple line plot, just give a list of y-values to the function plt.plot()."
   ]
  },
  {
   "cell_type": "code",
   "execution_count": 62,
   "metadata": {},
   "outputs": [
    {
     "data": {
      "application/javascript": [
       "/* Put everything inside the global mpl namespace */\n",
       "/* global mpl */\n",
       "window.mpl = {};\n",
       "\n",
       "mpl.get_websocket_type = function () {\n",
       "    if (typeof WebSocket !== 'undefined') {\n",
       "        return WebSocket;\n",
       "    } else if (typeof MozWebSocket !== 'undefined') {\n",
       "        return MozWebSocket;\n",
       "    } else {\n",
       "        alert(\n",
       "            'Your browser does not have WebSocket support. ' +\n",
       "                'Please try Chrome, Safari or Firefox ≥ 6. ' +\n",
       "                'Firefox 4 and 5 are also supported but you ' +\n",
       "                'have to enable WebSockets in about:config.'\n",
       "        );\n",
       "    }\n",
       "};\n",
       "\n",
       "mpl.figure = function (figure_id, websocket, ondownload, parent_element) {\n",
       "    this.id = figure_id;\n",
       "\n",
       "    this.ws = websocket;\n",
       "\n",
       "    this.supports_binary = this.ws.binaryType !== undefined;\n",
       "\n",
       "    if (!this.supports_binary) {\n",
       "        var warnings = document.getElementById('mpl-warnings');\n",
       "        if (warnings) {\n",
       "            warnings.style.display = 'block';\n",
       "            warnings.textContent =\n",
       "                'This browser does not support binary websocket messages. ' +\n",
       "                'Performance may be slow.';\n",
       "        }\n",
       "    }\n",
       "\n",
       "    this.imageObj = new Image();\n",
       "\n",
       "    this.context = undefined;\n",
       "    this.message = undefined;\n",
       "    this.canvas = undefined;\n",
       "    this.rubberband_canvas = undefined;\n",
       "    this.rubberband_context = undefined;\n",
       "    this.format_dropdown = undefined;\n",
       "\n",
       "    this.image_mode = 'full';\n",
       "\n",
       "    this.root = document.createElement('div');\n",
       "    this.root.setAttribute('style', 'display: inline-block');\n",
       "    this._root_extra_style(this.root);\n",
       "\n",
       "    parent_element.appendChild(this.root);\n",
       "\n",
       "    this._init_header(this);\n",
       "    this._init_canvas(this);\n",
       "    this._init_toolbar(this);\n",
       "\n",
       "    var fig = this;\n",
       "\n",
       "    this.waiting = false;\n",
       "\n",
       "    this.ws.onopen = function () {\n",
       "        fig.send_message('supports_binary', { value: fig.supports_binary });\n",
       "        fig.send_message('send_image_mode', {});\n",
       "        if (fig.ratio !== 1) {\n",
       "            fig.send_message('set_dpi_ratio', { dpi_ratio: fig.ratio });\n",
       "        }\n",
       "        fig.send_message('refresh', {});\n",
       "    };\n",
       "\n",
       "    this.imageObj.onload = function () {\n",
       "        if (fig.image_mode === 'full') {\n",
       "            // Full images could contain transparency (where diff images\n",
       "            // almost always do), so we need to clear the canvas so that\n",
       "            // there is no ghosting.\n",
       "            fig.context.clearRect(0, 0, fig.canvas.width, fig.canvas.height);\n",
       "        }\n",
       "        fig.context.drawImage(fig.imageObj, 0, 0);\n",
       "    };\n",
       "\n",
       "    this.imageObj.onunload = function () {\n",
       "        fig.ws.close();\n",
       "    };\n",
       "\n",
       "    this.ws.onmessage = this._make_on_message_function(this);\n",
       "\n",
       "    this.ondownload = ondownload;\n",
       "};\n",
       "\n",
       "mpl.figure.prototype._init_header = function () {\n",
       "    var titlebar = document.createElement('div');\n",
       "    titlebar.classList =\n",
       "        'ui-dialog-titlebar ui-widget-header ui-corner-all ui-helper-clearfix';\n",
       "    var titletext = document.createElement('div');\n",
       "    titletext.classList = 'ui-dialog-title';\n",
       "    titletext.setAttribute(\n",
       "        'style',\n",
       "        'width: 100%; text-align: center; padding: 3px;'\n",
       "    );\n",
       "    titlebar.appendChild(titletext);\n",
       "    this.root.appendChild(titlebar);\n",
       "    this.header = titletext;\n",
       "};\n",
       "\n",
       "mpl.figure.prototype._canvas_extra_style = function (_canvas_div) {};\n",
       "\n",
       "mpl.figure.prototype._root_extra_style = function (_canvas_div) {};\n",
       "\n",
       "mpl.figure.prototype._init_canvas = function () {\n",
       "    var fig = this;\n",
       "\n",
       "    var canvas_div = (this.canvas_div = document.createElement('div'));\n",
       "    canvas_div.setAttribute(\n",
       "        'style',\n",
       "        'border: 1px solid #ddd;' +\n",
       "            'box-sizing: content-box;' +\n",
       "            'clear: both;' +\n",
       "            'min-height: 1px;' +\n",
       "            'min-width: 1px;' +\n",
       "            'outline: 0;' +\n",
       "            'overflow: hidden;' +\n",
       "            'position: relative;' +\n",
       "            'resize: both;'\n",
       "    );\n",
       "\n",
       "    function on_keyboard_event_closure(name) {\n",
       "        return function (event) {\n",
       "            return fig.key_event(event, name);\n",
       "        };\n",
       "    }\n",
       "\n",
       "    canvas_div.addEventListener(\n",
       "        'keydown',\n",
       "        on_keyboard_event_closure('key_press')\n",
       "    );\n",
       "    canvas_div.addEventListener(\n",
       "        'keyup',\n",
       "        on_keyboard_event_closure('key_release')\n",
       "    );\n",
       "\n",
       "    this._canvas_extra_style(canvas_div);\n",
       "    this.root.appendChild(canvas_div);\n",
       "\n",
       "    var canvas = (this.canvas = document.createElement('canvas'));\n",
       "    canvas.classList.add('mpl-canvas');\n",
       "    canvas.setAttribute('style', 'box-sizing: content-box;');\n",
       "\n",
       "    this.context = canvas.getContext('2d');\n",
       "\n",
       "    var backingStore =\n",
       "        this.context.backingStorePixelRatio ||\n",
       "        this.context.webkitBackingStorePixelRatio ||\n",
       "        this.context.mozBackingStorePixelRatio ||\n",
       "        this.context.msBackingStorePixelRatio ||\n",
       "        this.context.oBackingStorePixelRatio ||\n",
       "        this.context.backingStorePixelRatio ||\n",
       "        1;\n",
       "\n",
       "    this.ratio = (window.devicePixelRatio || 1) / backingStore;\n",
       "    if (this.ratio !== 1) {\n",
       "        fig.send_message('set_dpi_ratio', { dpi_ratio: this.ratio });\n",
       "    }\n",
       "\n",
       "    var rubberband_canvas = (this.rubberband_canvas = document.createElement(\n",
       "        'canvas'\n",
       "    ));\n",
       "    rubberband_canvas.setAttribute(\n",
       "        'style',\n",
       "        'box-sizing: content-box; position: absolute; left: 0; top: 0; z-index: 1;'\n",
       "    );\n",
       "\n",
       "    // Apply a ponyfill if ResizeObserver is not implemented by browser.\n",
       "    if (this.ResizeObserver === undefined) {\n",
       "        if (window.ResizeObserver !== undefined) {\n",
       "            this.ResizeObserver = window.ResizeObserver;\n",
       "        } else {\n",
       "            var obs = _JSXTOOLS_RESIZE_OBSERVER({});\n",
       "            this.ResizeObserver = obs.ResizeObserver;\n",
       "        }\n",
       "    }\n",
       "\n",
       "    this.resizeObserverInstance = new this.ResizeObserver(function (entries) {\n",
       "        var nentries = entries.length;\n",
       "        for (var i = 0; i < nentries; i++) {\n",
       "            var entry = entries[i];\n",
       "            var width, height;\n",
       "            if (entry.contentBoxSize) {\n",
       "                if (entry.contentBoxSize instanceof Array) {\n",
       "                    // Chrome 84 implements new version of spec.\n",
       "                    width = entry.contentBoxSize[0].inlineSize;\n",
       "                    height = entry.contentBoxSize[0].blockSize;\n",
       "                } else {\n",
       "                    // Firefox implements old version of spec.\n",
       "                    width = entry.contentBoxSize.inlineSize;\n",
       "                    height = entry.contentBoxSize.blockSize;\n",
       "                }\n",
       "            } else {\n",
       "                // Chrome <84 implements even older version of spec.\n",
       "                width = entry.contentRect.width;\n",
       "                height = entry.contentRect.height;\n",
       "            }\n",
       "\n",
       "            // Keep the size of the canvas and rubber band canvas in sync with\n",
       "            // the canvas container.\n",
       "            if (entry.devicePixelContentBoxSize) {\n",
       "                // Chrome 84 implements new version of spec.\n",
       "                canvas.setAttribute(\n",
       "                    'width',\n",
       "                    entry.devicePixelContentBoxSize[0].inlineSize\n",
       "                );\n",
       "                canvas.setAttribute(\n",
       "                    'height',\n",
       "                    entry.devicePixelContentBoxSize[0].blockSize\n",
       "                );\n",
       "            } else {\n",
       "                canvas.setAttribute('width', width * fig.ratio);\n",
       "                canvas.setAttribute('height', height * fig.ratio);\n",
       "            }\n",
       "            canvas.setAttribute(\n",
       "                'style',\n",
       "                'width: ' + width + 'px; height: ' + height + 'px;'\n",
       "            );\n",
       "\n",
       "            rubberband_canvas.setAttribute('width', width);\n",
       "            rubberband_canvas.setAttribute('height', height);\n",
       "\n",
       "            // And update the size in Python. We ignore the initial 0/0 size\n",
       "            // that occurs as the element is placed into the DOM, which should\n",
       "            // otherwise not happen due to the minimum size styling.\n",
       "            if (width != 0 && height != 0) {\n",
       "                fig.request_resize(width, height);\n",
       "            }\n",
       "        }\n",
       "    });\n",
       "    this.resizeObserverInstance.observe(canvas_div);\n",
       "\n",
       "    function on_mouse_event_closure(name) {\n",
       "        return function (event) {\n",
       "            return fig.mouse_event(event, name);\n",
       "        };\n",
       "    }\n",
       "\n",
       "    rubberband_canvas.addEventListener(\n",
       "        'mousedown',\n",
       "        on_mouse_event_closure('button_press')\n",
       "    );\n",
       "    rubberband_canvas.addEventListener(\n",
       "        'mouseup',\n",
       "        on_mouse_event_closure('button_release')\n",
       "    );\n",
       "    // Throttle sequential mouse events to 1 every 20ms.\n",
       "    rubberband_canvas.addEventListener(\n",
       "        'mousemove',\n",
       "        on_mouse_event_closure('motion_notify')\n",
       "    );\n",
       "\n",
       "    rubberband_canvas.addEventListener(\n",
       "        'mouseenter',\n",
       "        on_mouse_event_closure('figure_enter')\n",
       "    );\n",
       "    rubberband_canvas.addEventListener(\n",
       "        'mouseleave',\n",
       "        on_mouse_event_closure('figure_leave')\n",
       "    );\n",
       "\n",
       "    canvas_div.addEventListener('wheel', function (event) {\n",
       "        if (event.deltaY < 0) {\n",
       "            event.step = 1;\n",
       "        } else {\n",
       "            event.step = -1;\n",
       "        }\n",
       "        on_mouse_event_closure('scroll')(event);\n",
       "    });\n",
       "\n",
       "    canvas_div.appendChild(canvas);\n",
       "    canvas_div.appendChild(rubberband_canvas);\n",
       "\n",
       "    this.rubberband_context = rubberband_canvas.getContext('2d');\n",
       "    this.rubberband_context.strokeStyle = '#000000';\n",
       "\n",
       "    this._resize_canvas = function (width, height, forward) {\n",
       "        if (forward) {\n",
       "            canvas_div.style.width = width + 'px';\n",
       "            canvas_div.style.height = height + 'px';\n",
       "        }\n",
       "    };\n",
       "\n",
       "    // Disable right mouse context menu.\n",
       "    this.rubberband_canvas.addEventListener('contextmenu', function (_e) {\n",
       "        event.preventDefault();\n",
       "        return false;\n",
       "    });\n",
       "\n",
       "    function set_focus() {\n",
       "        canvas.focus();\n",
       "        canvas_div.focus();\n",
       "    }\n",
       "\n",
       "    window.setTimeout(set_focus, 100);\n",
       "};\n",
       "\n",
       "mpl.figure.prototype._init_toolbar = function () {\n",
       "    var fig = this;\n",
       "\n",
       "    var toolbar = document.createElement('div');\n",
       "    toolbar.classList = 'mpl-toolbar';\n",
       "    this.root.appendChild(toolbar);\n",
       "\n",
       "    function on_click_closure(name) {\n",
       "        return function (_event) {\n",
       "            return fig.toolbar_button_onclick(name);\n",
       "        };\n",
       "    }\n",
       "\n",
       "    function on_mouseover_closure(tooltip) {\n",
       "        return function (event) {\n",
       "            if (!event.currentTarget.disabled) {\n",
       "                return fig.toolbar_button_onmouseover(tooltip);\n",
       "            }\n",
       "        };\n",
       "    }\n",
       "\n",
       "    fig.buttons = {};\n",
       "    var buttonGroup = document.createElement('div');\n",
       "    buttonGroup.classList = 'mpl-button-group';\n",
       "    for (var toolbar_ind in mpl.toolbar_items) {\n",
       "        var name = mpl.toolbar_items[toolbar_ind][0];\n",
       "        var tooltip = mpl.toolbar_items[toolbar_ind][1];\n",
       "        var image = mpl.toolbar_items[toolbar_ind][2];\n",
       "        var method_name = mpl.toolbar_items[toolbar_ind][3];\n",
       "\n",
       "        if (!name) {\n",
       "            /* Instead of a spacer, we start a new button group. */\n",
       "            if (buttonGroup.hasChildNodes()) {\n",
       "                toolbar.appendChild(buttonGroup);\n",
       "            }\n",
       "            buttonGroup = document.createElement('div');\n",
       "            buttonGroup.classList = 'mpl-button-group';\n",
       "            continue;\n",
       "        }\n",
       "\n",
       "        var button = (fig.buttons[name] = document.createElement('button'));\n",
       "        button.classList = 'mpl-widget';\n",
       "        button.setAttribute('role', 'button');\n",
       "        button.setAttribute('aria-disabled', 'false');\n",
       "        button.addEventListener('click', on_click_closure(method_name));\n",
       "        button.addEventListener('mouseover', on_mouseover_closure(tooltip));\n",
       "\n",
       "        var icon_img = document.createElement('img');\n",
       "        icon_img.src = '_images/' + image + '.png';\n",
       "        icon_img.srcset = '_images/' + image + '_large.png 2x';\n",
       "        icon_img.alt = tooltip;\n",
       "        button.appendChild(icon_img);\n",
       "\n",
       "        buttonGroup.appendChild(button);\n",
       "    }\n",
       "\n",
       "    if (buttonGroup.hasChildNodes()) {\n",
       "        toolbar.appendChild(buttonGroup);\n",
       "    }\n",
       "\n",
       "    var fmt_picker = document.createElement('select');\n",
       "    fmt_picker.classList = 'mpl-widget';\n",
       "    toolbar.appendChild(fmt_picker);\n",
       "    this.format_dropdown = fmt_picker;\n",
       "\n",
       "    for (var ind in mpl.extensions) {\n",
       "        var fmt = mpl.extensions[ind];\n",
       "        var option = document.createElement('option');\n",
       "        option.selected = fmt === mpl.default_extension;\n",
       "        option.innerHTML = fmt;\n",
       "        fmt_picker.appendChild(option);\n",
       "    }\n",
       "\n",
       "    var status_bar = document.createElement('span');\n",
       "    status_bar.classList = 'mpl-message';\n",
       "    toolbar.appendChild(status_bar);\n",
       "    this.message = status_bar;\n",
       "};\n",
       "\n",
       "mpl.figure.prototype.request_resize = function (x_pixels, y_pixels) {\n",
       "    // Request matplotlib to resize the figure. Matplotlib will then trigger a resize in the client,\n",
       "    // which will in turn request a refresh of the image.\n",
       "    this.send_message('resize', { width: x_pixels, height: y_pixels });\n",
       "};\n",
       "\n",
       "mpl.figure.prototype.send_message = function (type, properties) {\n",
       "    properties['type'] = type;\n",
       "    properties['figure_id'] = this.id;\n",
       "    this.ws.send(JSON.stringify(properties));\n",
       "};\n",
       "\n",
       "mpl.figure.prototype.send_draw_message = function () {\n",
       "    if (!this.waiting) {\n",
       "        this.waiting = true;\n",
       "        this.ws.send(JSON.stringify({ type: 'draw', figure_id: this.id }));\n",
       "    }\n",
       "};\n",
       "\n",
       "mpl.figure.prototype.handle_save = function (fig, _msg) {\n",
       "    var format_dropdown = fig.format_dropdown;\n",
       "    var format = format_dropdown.options[format_dropdown.selectedIndex].value;\n",
       "    fig.ondownload(fig, format);\n",
       "};\n",
       "\n",
       "mpl.figure.prototype.handle_resize = function (fig, msg) {\n",
       "    var size = msg['size'];\n",
       "    if (size[0] !== fig.canvas.width || size[1] !== fig.canvas.height) {\n",
       "        fig._resize_canvas(size[0], size[1], msg['forward']);\n",
       "        fig.send_message('refresh', {});\n",
       "    }\n",
       "};\n",
       "\n",
       "mpl.figure.prototype.handle_rubberband = function (fig, msg) {\n",
       "    var x0 = msg['x0'] / fig.ratio;\n",
       "    var y0 = (fig.canvas.height - msg['y0']) / fig.ratio;\n",
       "    var x1 = msg['x1'] / fig.ratio;\n",
       "    var y1 = (fig.canvas.height - msg['y1']) / fig.ratio;\n",
       "    x0 = Math.floor(x0) + 0.5;\n",
       "    y0 = Math.floor(y0) + 0.5;\n",
       "    x1 = Math.floor(x1) + 0.5;\n",
       "    y1 = Math.floor(y1) + 0.5;\n",
       "    var min_x = Math.min(x0, x1);\n",
       "    var min_y = Math.min(y0, y1);\n",
       "    var width = Math.abs(x1 - x0);\n",
       "    var height = Math.abs(y1 - y0);\n",
       "\n",
       "    fig.rubberband_context.clearRect(\n",
       "        0,\n",
       "        0,\n",
       "        fig.canvas.width / fig.ratio,\n",
       "        fig.canvas.height / fig.ratio\n",
       "    );\n",
       "\n",
       "    fig.rubberband_context.strokeRect(min_x, min_y, width, height);\n",
       "};\n",
       "\n",
       "mpl.figure.prototype.handle_figure_label = function (fig, msg) {\n",
       "    // Updates the figure title.\n",
       "    fig.header.textContent = msg['label'];\n",
       "};\n",
       "\n",
       "mpl.figure.prototype.handle_cursor = function (fig, msg) {\n",
       "    var cursor = msg['cursor'];\n",
       "    switch (cursor) {\n",
       "        case 0:\n",
       "            cursor = 'pointer';\n",
       "            break;\n",
       "        case 1:\n",
       "            cursor = 'default';\n",
       "            break;\n",
       "        case 2:\n",
       "            cursor = 'crosshair';\n",
       "            break;\n",
       "        case 3:\n",
       "            cursor = 'move';\n",
       "            break;\n",
       "    }\n",
       "    fig.rubberband_canvas.style.cursor = cursor;\n",
       "};\n",
       "\n",
       "mpl.figure.prototype.handle_message = function (fig, msg) {\n",
       "    fig.message.textContent = msg['message'];\n",
       "};\n",
       "\n",
       "mpl.figure.prototype.handle_draw = function (fig, _msg) {\n",
       "    // Request the server to send over a new figure.\n",
       "    fig.send_draw_message();\n",
       "};\n",
       "\n",
       "mpl.figure.prototype.handle_image_mode = function (fig, msg) {\n",
       "    fig.image_mode = msg['mode'];\n",
       "};\n",
       "\n",
       "mpl.figure.prototype.handle_history_buttons = function (fig, msg) {\n",
       "    for (var key in msg) {\n",
       "        if (!(key in fig.buttons)) {\n",
       "            continue;\n",
       "        }\n",
       "        fig.buttons[key].disabled = !msg[key];\n",
       "        fig.buttons[key].setAttribute('aria-disabled', !msg[key]);\n",
       "    }\n",
       "};\n",
       "\n",
       "mpl.figure.prototype.handle_navigate_mode = function (fig, msg) {\n",
       "    if (msg['mode'] === 'PAN') {\n",
       "        fig.buttons['Pan'].classList.add('active');\n",
       "        fig.buttons['Zoom'].classList.remove('active');\n",
       "    } else if (msg['mode'] === 'ZOOM') {\n",
       "        fig.buttons['Pan'].classList.remove('active');\n",
       "        fig.buttons['Zoom'].classList.add('active');\n",
       "    } else {\n",
       "        fig.buttons['Pan'].classList.remove('active');\n",
       "        fig.buttons['Zoom'].classList.remove('active');\n",
       "    }\n",
       "};\n",
       "\n",
       "mpl.figure.prototype.updated_canvas_event = function () {\n",
       "    // Called whenever the canvas gets updated.\n",
       "    this.send_message('ack', {});\n",
       "};\n",
       "\n",
       "// A function to construct a web socket function for onmessage handling.\n",
       "// Called in the figure constructor.\n",
       "mpl.figure.prototype._make_on_message_function = function (fig) {\n",
       "    return function socket_on_message(evt) {\n",
       "        if (evt.data instanceof Blob) {\n",
       "            /* FIXME: We get \"Resource interpreted as Image but\n",
       "             * transferred with MIME type text/plain:\" errors on\n",
       "             * Chrome.  But how to set the MIME type?  It doesn't seem\n",
       "             * to be part of the websocket stream */\n",
       "            evt.data.type = 'image/png';\n",
       "\n",
       "            /* Free the memory for the previous frames */\n",
       "            if (fig.imageObj.src) {\n",
       "                (window.URL || window.webkitURL).revokeObjectURL(\n",
       "                    fig.imageObj.src\n",
       "                );\n",
       "            }\n",
       "\n",
       "            fig.imageObj.src = (window.URL || window.webkitURL).createObjectURL(\n",
       "                evt.data\n",
       "            );\n",
       "            fig.updated_canvas_event();\n",
       "            fig.waiting = false;\n",
       "            return;\n",
       "        } else if (\n",
       "            typeof evt.data === 'string' &&\n",
       "            evt.data.slice(0, 21) === 'data:image/png;base64'\n",
       "        ) {\n",
       "            fig.imageObj.src = evt.data;\n",
       "            fig.updated_canvas_event();\n",
       "            fig.waiting = false;\n",
       "            return;\n",
       "        }\n",
       "\n",
       "        var msg = JSON.parse(evt.data);\n",
       "        var msg_type = msg['type'];\n",
       "\n",
       "        // Call the  \"handle_{type}\" callback, which takes\n",
       "        // the figure and JSON message as its only arguments.\n",
       "        try {\n",
       "            var callback = fig['handle_' + msg_type];\n",
       "        } catch (e) {\n",
       "            console.log(\n",
       "                \"No handler for the '\" + msg_type + \"' message type: \",\n",
       "                msg\n",
       "            );\n",
       "            return;\n",
       "        }\n",
       "\n",
       "        if (callback) {\n",
       "            try {\n",
       "                // console.log(\"Handling '\" + msg_type + \"' message: \", msg);\n",
       "                callback(fig, msg);\n",
       "            } catch (e) {\n",
       "                console.log(\n",
       "                    \"Exception inside the 'handler_\" + msg_type + \"' callback:\",\n",
       "                    e,\n",
       "                    e.stack,\n",
       "                    msg\n",
       "                );\n",
       "            }\n",
       "        }\n",
       "    };\n",
       "};\n",
       "\n",
       "// from http://stackoverflow.com/questions/1114465/getting-mouse-location-in-canvas\n",
       "mpl.findpos = function (e) {\n",
       "    //this section is from http://www.quirksmode.org/js/events_properties.html\n",
       "    var targ;\n",
       "    if (!e) {\n",
       "        e = window.event;\n",
       "    }\n",
       "    if (e.target) {\n",
       "        targ = e.target;\n",
       "    } else if (e.srcElement) {\n",
       "        targ = e.srcElement;\n",
       "    }\n",
       "    if (targ.nodeType === 3) {\n",
       "        // defeat Safari bug\n",
       "        targ = targ.parentNode;\n",
       "    }\n",
       "\n",
       "    // pageX,Y are the mouse positions relative to the document\n",
       "    var boundingRect = targ.getBoundingClientRect();\n",
       "    var x = e.pageX - (boundingRect.left + document.body.scrollLeft);\n",
       "    var y = e.pageY - (boundingRect.top + document.body.scrollTop);\n",
       "\n",
       "    return { x: x, y: y };\n",
       "};\n",
       "\n",
       "/*\n",
       " * return a copy of an object with only non-object keys\n",
       " * we need this to avoid circular references\n",
       " * http://stackoverflow.com/a/24161582/3208463\n",
       " */\n",
       "function simpleKeys(original) {\n",
       "    return Object.keys(original).reduce(function (obj, key) {\n",
       "        if (typeof original[key] !== 'object') {\n",
       "            obj[key] = original[key];\n",
       "        }\n",
       "        return obj;\n",
       "    }, {});\n",
       "}\n",
       "\n",
       "mpl.figure.prototype.mouse_event = function (event, name) {\n",
       "    var canvas_pos = mpl.findpos(event);\n",
       "\n",
       "    if (name === 'button_press') {\n",
       "        this.canvas.focus();\n",
       "        this.canvas_div.focus();\n",
       "    }\n",
       "\n",
       "    var x = canvas_pos.x * this.ratio;\n",
       "    var y = canvas_pos.y * this.ratio;\n",
       "\n",
       "    this.send_message(name, {\n",
       "        x: x,\n",
       "        y: y,\n",
       "        button: event.button,\n",
       "        step: event.step,\n",
       "        guiEvent: simpleKeys(event),\n",
       "    });\n",
       "\n",
       "    /* This prevents the web browser from automatically changing to\n",
       "     * the text insertion cursor when the button is pressed.  We want\n",
       "     * to control all of the cursor setting manually through the\n",
       "     * 'cursor' event from matplotlib */\n",
       "    event.preventDefault();\n",
       "    return false;\n",
       "};\n",
       "\n",
       "mpl.figure.prototype._key_event_extra = function (_event, _name) {\n",
       "    // Handle any extra behaviour associated with a key event\n",
       "};\n",
       "\n",
       "mpl.figure.prototype.key_event = function (event, name) {\n",
       "    // Prevent repeat events\n",
       "    if (name === 'key_press') {\n",
       "        if (event.which === this._key) {\n",
       "            return;\n",
       "        } else {\n",
       "            this._key = event.which;\n",
       "        }\n",
       "    }\n",
       "    if (name === 'key_release') {\n",
       "        this._key = null;\n",
       "    }\n",
       "\n",
       "    var value = '';\n",
       "    if (event.ctrlKey && event.which !== 17) {\n",
       "        value += 'ctrl+';\n",
       "    }\n",
       "    if (event.altKey && event.which !== 18) {\n",
       "        value += 'alt+';\n",
       "    }\n",
       "    if (event.shiftKey && event.which !== 16) {\n",
       "        value += 'shift+';\n",
       "    }\n",
       "\n",
       "    value += 'k';\n",
       "    value += event.which.toString();\n",
       "\n",
       "    this._key_event_extra(event, name);\n",
       "\n",
       "    this.send_message(name, { key: value, guiEvent: simpleKeys(event) });\n",
       "    return false;\n",
       "};\n",
       "\n",
       "mpl.figure.prototype.toolbar_button_onclick = function (name) {\n",
       "    if (name === 'download') {\n",
       "        this.handle_save(this, null);\n",
       "    } else {\n",
       "        this.send_message('toolbar_button', { name: name });\n",
       "    }\n",
       "};\n",
       "\n",
       "mpl.figure.prototype.toolbar_button_onmouseover = function (tooltip) {\n",
       "    this.message.textContent = tooltip;\n",
       "};\n",
       "\n",
       "///////////////// REMAINING CONTENT GENERATED BY embed_js.py /////////////////\n",
       "// prettier-ignore\n",
       "var _JSXTOOLS_RESIZE_OBSERVER=function(A){var t,i=new WeakMap,n=new WeakMap,a=new WeakMap,r=new WeakMap,o=new Set;function s(e){if(!(this instanceof s))throw new TypeError(\"Constructor requires 'new' operator\");i.set(this,e)}function h(){throw new TypeError(\"Function is not a constructor\")}function c(e,t,i,n){e=0 in arguments?Number(arguments[0]):0,t=1 in arguments?Number(arguments[1]):0,i=2 in arguments?Number(arguments[2]):0,n=3 in arguments?Number(arguments[3]):0,this.right=(this.x=this.left=e)+(this.width=i),this.bottom=(this.y=this.top=t)+(this.height=n),Object.freeze(this)}function d(){t=requestAnimationFrame(d);var s=new WeakMap,p=new Set;o.forEach((function(t){r.get(t).forEach((function(i){var r=t instanceof window.SVGElement,o=a.get(t),d=r?0:parseFloat(o.paddingTop),f=r?0:parseFloat(o.paddingRight),l=r?0:parseFloat(o.paddingBottom),u=r?0:parseFloat(o.paddingLeft),g=r?0:parseFloat(o.borderTopWidth),m=r?0:parseFloat(o.borderRightWidth),w=r?0:parseFloat(o.borderBottomWidth),b=u+f,F=d+l,v=(r?0:parseFloat(o.borderLeftWidth))+m,W=g+w,y=r?0:t.offsetHeight-W-t.clientHeight,E=r?0:t.offsetWidth-v-t.clientWidth,R=b+v,z=F+W,M=r?t.width:parseFloat(o.width)-R-E,O=r?t.height:parseFloat(o.height)-z-y;if(n.has(t)){var k=n.get(t);if(k[0]===M&&k[1]===O)return}n.set(t,[M,O]);var S=Object.create(h.prototype);S.target=t,S.contentRect=new c(u,d,M,O),s.has(i)||(s.set(i,[]),p.add(i)),s.get(i).push(S)}))})),p.forEach((function(e){i.get(e).call(e,s.get(e),e)}))}return s.prototype.observe=function(i){if(i instanceof window.Element){r.has(i)||(r.set(i,new Set),o.add(i),a.set(i,window.getComputedStyle(i)));var n=r.get(i);n.has(this)||n.add(this),cancelAnimationFrame(t),t=requestAnimationFrame(d)}},s.prototype.unobserve=function(i){if(i instanceof window.Element&&r.has(i)){var n=r.get(i);n.has(this)&&(n.delete(this),n.size||(r.delete(i),o.delete(i))),n.size||r.delete(i),o.size||cancelAnimationFrame(t)}},A.DOMRectReadOnly=c,A.ResizeObserver=s,A.ResizeObserverEntry=h,A}; // eslint-disable-line\n",
       "mpl.toolbar_items = [[\"Home\", \"Reset original view\", \"fa fa-home icon-home\", \"home\"], [\"Back\", \"Back to previous view\", \"fa fa-arrow-left icon-arrow-left\", \"back\"], [\"Forward\", \"Forward to next view\", \"fa fa-arrow-right icon-arrow-right\", \"forward\"], [\"\", \"\", \"\", \"\"], [\"Pan\", \"Left button pans, Right button zooms\\nx/y fixes axis, CTRL fixes aspect\", \"fa fa-arrows icon-move\", \"pan\"], [\"Zoom\", \"Zoom to rectangle\\nx/y fixes axis, CTRL fixes aspect\", \"fa fa-square-o icon-check-empty\", \"zoom\"], [\"\", \"\", \"\", \"\"], [\"Download\", \"Download plot\", \"fa fa-floppy-o icon-save\", \"download\"]];\n",
       "\n",
       "mpl.extensions = [\"eps\", \"jpeg\", \"pdf\", \"png\", \"ps\", \"raw\", \"svg\", \"tif\"];\n",
       "\n",
       "mpl.default_extension = \"png\";/* global mpl */\n",
       "\n",
       "var comm_websocket_adapter = function (comm) {\n",
       "    // Create a \"websocket\"-like object which calls the given IPython comm\n",
       "    // object with the appropriate methods. Currently this is a non binary\n",
       "    // socket, so there is still some room for performance tuning.\n",
       "    var ws = {};\n",
       "\n",
       "    ws.close = function () {\n",
       "        comm.close();\n",
       "    };\n",
       "    ws.send = function (m) {\n",
       "        //console.log('sending', m);\n",
       "        comm.send(m);\n",
       "    };\n",
       "    // Register the callback with on_msg.\n",
       "    comm.on_msg(function (msg) {\n",
       "        //console.log('receiving', msg['content']['data'], msg);\n",
       "        // Pass the mpl event to the overridden (by mpl) onmessage function.\n",
       "        ws.onmessage(msg['content']['data']);\n",
       "    });\n",
       "    return ws;\n",
       "};\n",
       "\n",
       "mpl.mpl_figure_comm = function (comm, msg) {\n",
       "    // This is the function which gets called when the mpl process\n",
       "    // starts-up an IPython Comm through the \"matplotlib\" channel.\n",
       "\n",
       "    var id = msg.content.data.id;\n",
       "    // Get hold of the div created by the display call when the Comm\n",
       "    // socket was opened in Python.\n",
       "    var element = document.getElementById(id);\n",
       "    var ws_proxy = comm_websocket_adapter(comm);\n",
       "\n",
       "    function ondownload(figure, _format) {\n",
       "        window.open(figure.canvas.toDataURL());\n",
       "    }\n",
       "\n",
       "    var fig = new mpl.figure(id, ws_proxy, ondownload, element);\n",
       "\n",
       "    // Call onopen now - mpl needs it, as it is assuming we've passed it a real\n",
       "    // web socket which is closed, not our websocket->open comm proxy.\n",
       "    ws_proxy.onopen();\n",
       "\n",
       "    fig.parent_element = element;\n",
       "    fig.cell_info = mpl.find_output_cell(\"<div id='\" + id + \"'></div>\");\n",
       "    if (!fig.cell_info) {\n",
       "        console.error('Failed to find cell for figure', id, fig);\n",
       "        return;\n",
       "    }\n",
       "    fig.cell_info[0].output_area.element.on(\n",
       "        'cleared',\n",
       "        { fig: fig },\n",
       "        fig._remove_fig_handler\n",
       "    );\n",
       "};\n",
       "\n",
       "mpl.figure.prototype.handle_close = function (fig, msg) {\n",
       "    var width = fig.canvas.width / fig.ratio;\n",
       "    fig.cell_info[0].output_area.element.off(\n",
       "        'cleared',\n",
       "        fig._remove_fig_handler\n",
       "    );\n",
       "    fig.resizeObserverInstance.unobserve(fig.canvas_div);\n",
       "\n",
       "    // Update the output cell to use the data from the current canvas.\n",
       "    fig.push_to_output();\n",
       "    var dataURL = fig.canvas.toDataURL();\n",
       "    // Re-enable the keyboard manager in IPython - without this line, in FF,\n",
       "    // the notebook keyboard shortcuts fail.\n",
       "    IPython.keyboard_manager.enable();\n",
       "    fig.parent_element.innerHTML =\n",
       "        '<img src=\"' + dataURL + '\" width=\"' + width + '\">';\n",
       "    fig.close_ws(fig, msg);\n",
       "};\n",
       "\n",
       "mpl.figure.prototype.close_ws = function (fig, msg) {\n",
       "    fig.send_message('closing', msg);\n",
       "    // fig.ws.close()\n",
       "};\n",
       "\n",
       "mpl.figure.prototype.push_to_output = function (_remove_interactive) {\n",
       "    // Turn the data on the canvas into data in the output cell.\n",
       "    var width = this.canvas.width / this.ratio;\n",
       "    var dataURL = this.canvas.toDataURL();\n",
       "    this.cell_info[1]['text/html'] =\n",
       "        '<img src=\"' + dataURL + '\" width=\"' + width + '\">';\n",
       "};\n",
       "\n",
       "mpl.figure.prototype.updated_canvas_event = function () {\n",
       "    // Tell IPython that the notebook contents must change.\n",
       "    IPython.notebook.set_dirty(true);\n",
       "    this.send_message('ack', {});\n",
       "    var fig = this;\n",
       "    // Wait a second, then push the new image to the DOM so\n",
       "    // that it is saved nicely (might be nice to debounce this).\n",
       "    setTimeout(function () {\n",
       "        fig.push_to_output();\n",
       "    }, 1000);\n",
       "};\n",
       "\n",
       "mpl.figure.prototype._init_toolbar = function () {\n",
       "    var fig = this;\n",
       "\n",
       "    var toolbar = document.createElement('div');\n",
       "    toolbar.classList = 'btn-toolbar';\n",
       "    this.root.appendChild(toolbar);\n",
       "\n",
       "    function on_click_closure(name) {\n",
       "        return function (_event) {\n",
       "            return fig.toolbar_button_onclick(name);\n",
       "        };\n",
       "    }\n",
       "\n",
       "    function on_mouseover_closure(tooltip) {\n",
       "        return function (event) {\n",
       "            if (!event.currentTarget.disabled) {\n",
       "                return fig.toolbar_button_onmouseover(tooltip);\n",
       "            }\n",
       "        };\n",
       "    }\n",
       "\n",
       "    fig.buttons = {};\n",
       "    var buttonGroup = document.createElement('div');\n",
       "    buttonGroup.classList = 'btn-group';\n",
       "    var button;\n",
       "    for (var toolbar_ind in mpl.toolbar_items) {\n",
       "        var name = mpl.toolbar_items[toolbar_ind][0];\n",
       "        var tooltip = mpl.toolbar_items[toolbar_ind][1];\n",
       "        var image = mpl.toolbar_items[toolbar_ind][2];\n",
       "        var method_name = mpl.toolbar_items[toolbar_ind][3];\n",
       "\n",
       "        if (!name) {\n",
       "            /* Instead of a spacer, we start a new button group. */\n",
       "            if (buttonGroup.hasChildNodes()) {\n",
       "                toolbar.appendChild(buttonGroup);\n",
       "            }\n",
       "            buttonGroup = document.createElement('div');\n",
       "            buttonGroup.classList = 'btn-group';\n",
       "            continue;\n",
       "        }\n",
       "\n",
       "        button = fig.buttons[name] = document.createElement('button');\n",
       "        button.classList = 'btn btn-default';\n",
       "        button.href = '#';\n",
       "        button.title = name;\n",
       "        button.innerHTML = '<i class=\"fa ' + image + ' fa-lg\"></i>';\n",
       "        button.addEventListener('click', on_click_closure(method_name));\n",
       "        button.addEventListener('mouseover', on_mouseover_closure(tooltip));\n",
       "        buttonGroup.appendChild(button);\n",
       "    }\n",
       "\n",
       "    if (buttonGroup.hasChildNodes()) {\n",
       "        toolbar.appendChild(buttonGroup);\n",
       "    }\n",
       "\n",
       "    // Add the status bar.\n",
       "    var status_bar = document.createElement('span');\n",
       "    status_bar.classList = 'mpl-message pull-right';\n",
       "    toolbar.appendChild(status_bar);\n",
       "    this.message = status_bar;\n",
       "\n",
       "    // Add the close button to the window.\n",
       "    var buttongrp = document.createElement('div');\n",
       "    buttongrp.classList = 'btn-group inline pull-right';\n",
       "    button = document.createElement('button');\n",
       "    button.classList = 'btn btn-mini btn-primary';\n",
       "    button.href = '#';\n",
       "    button.title = 'Stop Interaction';\n",
       "    button.innerHTML = '<i class=\"fa fa-power-off icon-remove icon-large\"></i>';\n",
       "    button.addEventListener('click', function (_evt) {\n",
       "        fig.handle_close(fig, {});\n",
       "    });\n",
       "    button.addEventListener(\n",
       "        'mouseover',\n",
       "        on_mouseover_closure('Stop Interaction')\n",
       "    );\n",
       "    buttongrp.appendChild(button);\n",
       "    var titlebar = this.root.querySelector('.ui-dialog-titlebar');\n",
       "    titlebar.insertBefore(buttongrp, titlebar.firstChild);\n",
       "};\n",
       "\n",
       "mpl.figure.prototype._remove_fig_handler = function (event) {\n",
       "    var fig = event.data.fig;\n",
       "    if (event.target !== this) {\n",
       "        // Ignore bubbled events from children.\n",
       "        return;\n",
       "    }\n",
       "    fig.close_ws(fig, {});\n",
       "};\n",
       "\n",
       "mpl.figure.prototype._root_extra_style = function (el) {\n",
       "    el.style.boxSizing = 'content-box'; // override notebook setting of border-box.\n",
       "};\n",
       "\n",
       "mpl.figure.prototype._canvas_extra_style = function (el) {\n",
       "    // this is important to make the div 'focusable\n",
       "    el.setAttribute('tabindex', 0);\n",
       "    // reach out to IPython and tell the keyboard manager to turn it's self\n",
       "    // off when our div gets focus\n",
       "\n",
       "    // location in version 3\n",
       "    if (IPython.notebook.keyboard_manager) {\n",
       "        IPython.notebook.keyboard_manager.register_events(el);\n",
       "    } else {\n",
       "        // location in version 2\n",
       "        IPython.keyboard_manager.register_events(el);\n",
       "    }\n",
       "};\n",
       "\n",
       "mpl.figure.prototype._key_event_extra = function (event, _name) {\n",
       "    var manager = IPython.notebook.keyboard_manager;\n",
       "    if (!manager) {\n",
       "        manager = IPython.keyboard_manager;\n",
       "    }\n",
       "\n",
       "    // Check for shift+enter\n",
       "    if (event.shiftKey && event.which === 13) {\n",
       "        this.canvas_div.blur();\n",
       "        // select the cell after this one\n",
       "        var index = IPython.notebook.find_cell_index(this.cell_info[0]);\n",
       "        IPython.notebook.select(index + 1);\n",
       "    }\n",
       "};\n",
       "\n",
       "mpl.figure.prototype.handle_save = function (fig, _msg) {\n",
       "    fig.ondownload(fig, null);\n",
       "};\n",
       "\n",
       "mpl.find_output_cell = function (html_output) {\n",
       "    // Return the cell and output element which can be found *uniquely* in the notebook.\n",
       "    // Note - this is a bit hacky, but it is done because the \"notebook_saving.Notebook\"\n",
       "    // IPython event is triggered only after the cells have been serialised, which for\n",
       "    // our purposes (turning an active figure into a static one), is too late.\n",
       "    var cells = IPython.notebook.get_cells();\n",
       "    var ncells = cells.length;\n",
       "    for (var i = 0; i < ncells; i++) {\n",
       "        var cell = cells[i];\n",
       "        if (cell.cell_type === 'code') {\n",
       "            for (var j = 0; j < cell.output_area.outputs.length; j++) {\n",
       "                var data = cell.output_area.outputs[j];\n",
       "                if (data.data) {\n",
       "                    // IPython >= 3 moved mimebundle to data attribute of output\n",
       "                    data = data.data;\n",
       "                }\n",
       "                if (data['text/html'] === html_output) {\n",
       "                    return [cell, data, j];\n",
       "                }\n",
       "            }\n",
       "        }\n",
       "    }\n",
       "};\n",
       "\n",
       "// Register the function which deals with the matplotlib target/channel.\n",
       "// The kernel may be null if the page has been refreshed.\n",
       "if (IPython.notebook.kernel !== null) {\n",
       "    IPython.notebook.kernel.comm_manager.register_target(\n",
       "        'matplotlib',\n",
       "        mpl.mpl_figure_comm\n",
       "    );\n",
       "}\n"
      ],
      "text/plain": [
       "<IPython.core.display.Javascript object>"
      ]
     },
     "metadata": {},
     "output_type": "display_data"
    },
    {
     "data": {
      "text/html": [
       "<img src=\"data:image/png;base64,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\" width=\"640\">"
      ],
      "text/plain": [
       "<IPython.core.display.HTML object>"
      ]
     },
     "metadata": {},
     "output_type": "display_data"
    },
    {
     "data": {
      "text/plain": [
       "[<matplotlib.lines.Line2D at 0x116b2bc70>]"
      ]
     },
     "execution_count": 62,
     "metadata": {},
     "output_type": "execute_result"
    }
   ],
   "source": [
    "plt.plot([5, 8, 2, 6, 1, 8, 2, 3, 4, 5, 6])"
   ]
  },
  {
   "cell_type": "markdown",
   "metadata": {},
   "source": [
    "But you should never create a plot that doesn't have labels on the x and y axises, and should always have a title. and appropriate scales. Read the documentation on matplotlib and add labels and a title to the plot above:\n",
    "\n",
    "http://matplotlib.org/api/pyplot_api.html"
   ]
  },
  {
   "cell_type": "markdown",
   "metadata": {},
   "source": [
    "Matplotlib is extremely flexible library, see [Matplotlib gallery](https://matplotlib.org/3.1.1/gallery/index.html) for inspiration"
   ]
  },
  {
   "cell_type": "markdown",
   "metadata": {},
   "source": [
    "\n",
    "# 4 Scientific computing with python\n",
    "Python is interpreted language, and thus pure python can be slow at times (for crunching data). The good thing is that you can write a library in C or other high performance language of choice and implement this as a python module. This module can be conviniently used from within python but actual calculations will be done by the library, i.e. fast. That's particularly important for scientific applications. One of the most important libraries in this context is _numpy_:The fundamental package for scientific computing with Python. It contains lots of useful functions, but basic idea is that you can work with arrays of data fast (both from code-writing and execution perspectives). For instance, element-wise operations do not require loops:"
   ]
  },
  {
   "cell_type": "code",
   "execution_count": 63,
   "metadata": {},
   "outputs": [
    {
     "name": "stdout",
     "output_type": "stream",
     "text": [
      "[0, 1, 4, 9, 16, 25, 36, 49, 64, 81]\n",
      "[ 0  1  4  9 16 25 36 49 64 81]\n"
     ]
    }
   ],
   "source": [
    "#element-wise square with the loop\n",
    "print([x**2 for x in range(10)])\n",
    "# now with numpy\n",
    "import numpy as n\n",
    "print(n.arange(10)**2)"
   ]
  },
  {
   "cell_type": "markdown",
   "metadata": {},
   "source": [
    "_numpy_ also contains operations required for linear algebra (matrix operations) and many more! And does it all much faster! We will learn some of it as the course progresses, but don't hesitate to read documentation. "
   ]
  },
  {
   "cell_type": "markdown",
   "metadata": {},
   "source": [
    "Another important module we'll use is _scipy_. That contans things like special functions, optimization alghoritms, and many more! And of course, there are more modules dedicated for specific tasks. Python is becoming _lingua franca_ of scientific computing so if you're up to a certain task, there's always probability that there is already a module for that. Most of them are available via https://pypi.org. The binder repository we'll be using will have all required modules pre-installed. If you work on your machine this will not be the case, so if you're getting error on importing of a module check if it is installed!\n",
    "\n",
    "We will discuss and use part of the functionality provided by these modules later on in the course, but of course, you can start exploring them yourself. To do that 1) start using the modules 2) read documentation :)"
   ]
  }
 ],
 "metadata": {
  "kernelspec": {
   "display_name": "Python 3",
   "language": "python",
   "name": "python3"
  },
  "language_info": {
   "codemirror_mode": {
    "name": "ipython",
    "version": 3
   },
   "file_extension": ".py",
   "mimetype": "text/x-python",
   "name": "python",
   "nbconvert_exporter": "python",
   "pygments_lexer": "ipython3",
   "version": "3.8.6"
  }
 },
 "nbformat": 4,
 "nbformat_minor": 1
}
